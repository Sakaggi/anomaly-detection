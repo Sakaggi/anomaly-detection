{
  "nbformat": 4,
  "nbformat_minor": 0,
  "metadata": {
    "colab": {
      "name": "anomaly-detection-train.ipynb",
      "provenance": [],
      "authorship_tag": "ABX9TyN+OYJEZ2Bt1rh+kibcZFkR",
      "include_colab_link": true
    },
    "kernelspec": {
      "name": "python3",
      "display_name": "Python 3"
    },
    "language_info": {
      "name": "python"
    },
    "accelerator": "TPU"
  },
  "cells": [
    {
      "cell_type": "markdown",
      "metadata": {
        "id": "view-in-github",
        "colab_type": "text"
      },
      "source": [
        "<a href=\"https://colab.research.google.com/github/Sakaggi/anomaly-detection/blob/main/anomaly_detection_train.ipynb\" target=\"_parent\"><img src=\"https://colab.research.google.com/assets/colab-badge.svg\" alt=\"Open In Colab\"/></a>"
      ]
    },
    {
      "cell_type": "code",
      "metadata": {
        "id": "-4W7Fw8lFRKz"
      },
      "source": [
        "import numpy as np\n",
        "import tensorflow as tf\n",
        "import sklearn.metrics\n",
        "from tensorflow.keras.optimizers import RMSprop\n",
        "from tensorflow.keras.preprocessing.image import ImageDataGenerator\n",
        "import os\n",
        "import matplotlib.pyplot as plt\n",
        "\n",
        "os.environ['KMP_DUPLICATE_LIB_OK'] = 'True'"
      ],
      "execution_count": null,
      "outputs": []
    },
    {
      "cell_type": "code",
      "metadata": {
        "id": "5uG3yh6FGHvB"
      },
      "source": [
        "def train_01_LEGO_model():\n",
        "    train_datagen = ImageDataGenerator(rescale=1./ 255)\n",
        "\n",
        "    train_generator = train_datagen.flow_from_directory('Documents/05_Clip/01_LEGO/train_data',\n",
        "                                                        target_size=(160, 160),\n",
        "                                                        class_mode='binary',\n",
        "                                                        batch_size=50)\n",
        "\n",
        "    valid_datagen = ImageDataGenerator(rescale=1./ 255)\n",
        "\n",
        "    valid_generator = valid_datagen.flow_from_directory('Documents/05_Clip/01_LEGO/eval_data',\n",
        "                                                        target_size=(160, 160), class_mode='binary', batch_size=50)\n",
        "\n",
        "    # test_steps_per_epoch = np.math.ceil(valid_generator.samples / valid_generator.batch_size)\n",
        "\n",
        "    DESIRED_ACCURACY = 1.00\n",
        "\n",
        "    class myCallback(tf.keras.callbacks.Callback):\n",
        "        def on_epoch_end(self, epoch, logs={}):\n",
        "            if (logs.get('val_acc') > DESIRED_ACCURACY):\n",
        "                if(logs.get('acc') > DESIRED_ACCURACY):\n",
        "                    print(\"\\nReached 100% accuracy so cancelling training!\")\n",
        "                    self.model.stop_training = True\n",
        "\n",
        "    callbacks = myCallback()\n",
        "\n",
        "    model = tf.keras.models.Sequential([\n",
        "        tf.keras.layers.Conv2D(16, (3, 3), activation='relu', input_shape=(160, 160, 3)),\n",
        "        tf.keras.layers.MaxPooling2D(2, 2),\n",
        "        # The second convolution\n",
        "        tf.keras.layers.Conv2D(32, (3, 3), activation='relu'),\n",
        "        tf.keras.layers.MaxPooling2D(2, 2),\n",
        "        # The third convolution\n",
        "        tf.keras.layers.Conv2D(64, (3, 3), activation='relu'),\n",
        "        tf.keras.layers.MaxPooling2D(2, 2),\n",
        "        # The fourth convolution\n",
        "        tf.keras.layers.Conv2D(64, (3, 3), activation='relu'),\n",
        "        tf.keras.layers.MaxPooling2D(2, 2),\n",
        "        # The fifth convolution\n",
        "        tf.keras.layers.Conv2D(64, (3, 3), activation='relu'),\n",
        "        tf.keras.layers.MaxPooling2D(2, 2),\n",
        "        # Flatten the results to feed into a DNN\n",
        "        tf.keras.layers.Flatten(),\n",
        "        # 128 neuron hidden layer\n",
        "        tf.keras.layers.Dense(128, activation='relu'),\n",
        "        # Only 1 output neuron. It will contain a value from 0-1 where 0 for 1 class ('NG') and 1 for the other ('OK')\n",
        "        tf.keras.layers.Dense(1, activation='sigmoid')\n",
        "    ])\n",
        "\n",
        "    model.compile(loss='binary_crossentropy',\n",
        "                  optimizer=RMSprop(lr=0.001),\n",
        "                  metrics=['acc'])\n",
        "\n",
        "    # predictions = model.predict_generator(valid_generator, steps=test_steps_per_epoch)\n",
        "    # # Get most likely class\n",
        "    # predicted_classes = np.argmax(predictions, axis=1)\n",
        "    # true_classes = valid_generator.classes\n",
        "    # class_labels = list(valid_generator.class_indices.keys())\n",
        "\n",
        "    history = model.fit_generator(\n",
        "        train_generator,\n",
        "        epochs=10,\n",
        "        validation_data=valid_generator,\n",
        "        verbose=1,\n",
        "        callbacks=[callbacks]\n",
        "    )\n",
        "    model.save(\"01_LEGO.hdf5\")\n",
        "\n",
        "\n",
        "    # report = metrics.classification_report(true_classes, predicted_classes, target_names=class_labels)\n",
        "    # print(report)\n",
        "\n",
        "    acc = history.history['acc']\n",
        "    val_acc = history.history['val_acc']\n",
        "    loss = history.history['loss']\n",
        "    val_loss = history.history['val_loss']\n",
        "\n",
        "    epochs = range(len(acc))  # Get number of epochs\n",
        "\n",
        "    # ------------------------------------------------\n",
        "    # Plot training and validation accuracy per epoch\n",
        "    # ------------------------------------------------\n",
        "    plt.plot(epochs, acc, 'r', \"Training Accuracy\")\n",
        "    plt.plot(epochs, val_acc, 'b', \"Validation Accuracy\")\n",
        "    plt.title('Training and validation accuracy')\n",
        "    plt.figure()\n",
        "\n",
        "    # ------------------------------------------------\n",
        "    # Plot training and validation loss per epoch\n",
        "    # ------------------------------------------------\n",
        "    plt.plot(epochs, loss, 'r', \"Training Loss\")\n",
        "    plt.plot(epochs, val_loss, 'b', \"Validation Loss\")\n",
        "    plt.figure()\n",
        "    plt.show()\n",
        "\n",
        "    return history.history['val_acc'][-1]\n",
        "\n",
        "\n",
        "train_01_LEGO_model()\n"
      ],
      "execution_count": null,
      "outputs": []
    },
    {
      "cell_type": "markdown",
      "metadata": {
        "id": "CVMjppzsGSRI"
      },
      "source": [
        "/content/sample_data"
      ]
    }
  ]
}